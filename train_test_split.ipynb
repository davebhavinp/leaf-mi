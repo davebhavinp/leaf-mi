{
 "cells": [
  {
   "cell_type": "code",
   "execution_count": 26,
   "id": "hawaiian-country",
   "metadata": {},
   "outputs": [],
   "source": [
    "import os\n",
    "import shutil\n",
    "import numpy as np\n",
    "import random"
   ]
  },
  {
   "cell_type": "code",
   "execution_count": 52,
   "id": "invisible-poverty",
   "metadata": {},
   "outputs": [],
   "source": [
    "images_dir = 'images'\n",
    "train_images_dir = images_dir+\"/train/plastic\"\n",
    "test_images_dir = images_dir+\"/test/plastic\"\n",
    "train_labels_dir = 'labels/train/plastic'\n",
    "test_labels_dir = 'labels/test/plastic'\n",
    "\n",
    "train_split=0.8\n",
    "test_split=0.2 "
   ]
  },
  {
   "cell_type": "code",
   "execution_count": 31,
   "id": "universal-narrative",
   "metadata": {},
   "outputs": [],
   "source": [
    "t_fname=[]\n",
    "x_fname=[]\n",
    "i_fname=[]\n",
    "o_fname=[]\n",
    "for f in os.listdir(images_dir+\"/source/PET/\"): \n",
    "    split = f.split(\".\")\n",
    "    fname=split[0]\n",
    "    ftype=split[1]\n",
    "    #print(ftype)\n",
    "    if (ftype=='txt'): \n",
    "        t_fname.append(fname) \n",
    "    elif (ftype=='xml'): \n",
    "        x_fname.append(fname)\n",
    "    elif (ftype=='jpg'): \n",
    "        i_fname.append(fname)\n",
    "    else: \n",
    "        o_fname.append(fname)"
   ]
  },
  {
   "cell_type": "code",
   "execution_count": 17,
   "id": "qualified-highland",
   "metadata": {},
   "outputs": [
    {
     "data": {
      "text/plain": [
       "(62, 63, 62, 1)"
      ]
     },
     "execution_count": 17,
     "metadata": {},
     "output_type": "execute_result"
    }
   ],
   "source": [
    "len(i_fname), len(t_fname), len(x_fname), len(o_fname)"
   ]
  },
  {
   "cell_type": "code",
   "execution_count": 33,
   "id": "latest-riding",
   "metadata": {},
   "outputs": [],
   "source": [
    "random.shuffle(i_fname)"
   ]
  },
  {
   "cell_type": "code",
   "execution_count": 50,
   "id": "acceptable-science",
   "metadata": {},
   "outputs": [],
   "source": [
    "\n",
    "train_images, test_images, others = np.split(np.array(i_fname),[int(len(i_fname)*train_split), int(len(i_fname))])"
   ]
  },
  {
   "cell_type": "code",
   "execution_count": 51,
   "id": "planned-median",
   "metadata": {},
   "outputs": [
    {
     "data": {
      "text/plain": [
       "(49, 13)"
      ]
     },
     "execution_count": 51,
     "metadata": {},
     "output_type": "execute_result"
    }
   ],
   "source": [
    "len(train_images), len(test_images)"
   ]
  },
  {
   "cell_type": "code",
   "execution_count": 53,
   "id": "early-pattern",
   "metadata": {},
   "outputs": [],
   "source": [
    "for f in train_images: \n",
    "    shutil.copy(images_dir+\"/source/PET/\"+f+\".jpg\", train_images_dir)\n",
    "    shutil.copy(images_dir+\"/source/PET/\"+f+\".txt\", train_labels_dir)"
   ]
  },
  {
   "cell_type": "code",
   "execution_count": 54,
   "id": "serial-sentence",
   "metadata": {},
   "outputs": [],
   "source": [
    "for f in test_images: \n",
    "    shutil.copy(images_dir+\"/source/PET/\"+f+\".jpg\", test_images_dir)\n",
    "    shutil.copy(images_dir+\"/source/PET/\"+f+\".txt\", test_labels_dir)"
   ]
  },
  {
   "cell_type": "code",
   "execution_count": null,
   "id": "negative-notion",
   "metadata": {},
   "outputs": [],
   "source": []
  }
 ],
 "metadata": {
  "kernelspec": {
   "display_name": "Python 3",
   "language": "python",
   "name": "python3"
  },
  "language_info": {
   "codemirror_mode": {
    "name": "ipython",
    "version": 3
   },
   "file_extension": ".py",
   "mimetype": "text/x-python",
   "name": "python",
   "nbconvert_exporter": "python",
   "pygments_lexer": "ipython3",
   "version": "3.8.6"
  }
 },
 "nbformat": 4,
 "nbformat_minor": 5
}
